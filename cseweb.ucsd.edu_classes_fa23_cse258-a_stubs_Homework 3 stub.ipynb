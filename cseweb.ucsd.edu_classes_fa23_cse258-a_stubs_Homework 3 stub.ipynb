{
 "cells": [
  {
   "cell_type": "code",
   "execution_count": null,
   "id": "0f55c023",
   "metadata": {},
   "outputs": [],
   "source": [
    "import gzip\n",
    "from collections import defaultdict\n",
    "import math\n",
    "import scipy.optimize\n",
    "from sklearn import svm\n",
    "import numpy\n",
    "import string\n",
    "import random\n",
    "import string\n",
    "from sklearn import linear_model"
   ]
  },
  {
   "cell_type": "code",
   "execution_count": null,
   "id": "005c1a02-c5bf-4241-8d00-dc260d36f08f",
   "metadata": {},
   "outputs": [],
   "source": [
    "def assertFloat(x):\n",
    "    assert type(float(x)) == float\n",
    "\n",
    "def assertFloatList(items, N):\n",
    "    assert len(items) == N\n",
    "    assert [type(float(x)) for x in items] == [float]*N"
   ]
  },
  {
   "cell_type": "code",
   "execution_count": null,
   "id": "cb2abe72",
   "metadata": {},
   "outputs": [],
   "source": [
    "def readGz(path):\n",
    "    for l in gzip.open(path, 'rt'):\n",
    "        yield eval(l)"
   ]
  },
  {
   "cell_type": "code",
   "execution_count": null,
   "id": "e54fa48f",
   "metadata": {},
   "outputs": [],
   "source": [
    "def readJSON(path):\n",
    "    f = gzip.open(path, 'rt')\n",
    "    f.readline()\n",
    "    for l in f:\n",
    "        d = eval(l)\n",
    "        u = d['userID']\n",
    "        g = d['gameID']\n",
    "        yield u,g,d"
   ]
  },
  {
   "cell_type": "code",
   "execution_count": null,
   "id": "c215087c",
   "metadata": {},
   "outputs": [],
   "source": [
    "answers = {}"
   ]
  },
  {
   "cell_type": "code",
   "execution_count": null,
   "id": "27aec54d",
   "metadata": {},
   "outputs": [],
   "source": [
    "# Some data structures that will be useful"
   ]
  },
  {
   "cell_type": "code",
   "execution_count": null,
   "id": "e72d24da",
   "metadata": {},
   "outputs": [],
   "source": [
    "allHours = []\n",
    "for l in readJSON(\"train.json.gz\"):\n",
    "    allHours.append(l)"
   ]
  },
  {
   "cell_type": "code",
   "execution_count": null,
   "id": "462bd9bd-b657-4571-8fef-eee11d852099",
   "metadata": {},
   "outputs": [],
   "source": [
    "hoursTrain = allHours[:165000]\n",
    "hoursValid = allHours[165000:]"
   ]
  },
  {
   "cell_type": "code",
   "execution_count": null,
   "id": "c58fd9e5-0ba6-4fef-83c1-315503d75348",
   "metadata": {},
   "outputs": [],
   "source": [
    "##################################################\n",
    "# Play prediction                                #\n",
    "##################################################"
   ]
  },
  {
   "cell_type": "code",
   "execution_count": null,
   "id": "4e06cc33-bc60-4b45-be63-8033c17d9fe6",
   "metadata": {},
   "outputs": [],
   "source": [
    "# Any other preprocessing..."
   ]
  },
  {
   "cell_type": "code",
   "execution_count": null,
   "id": "12f46fd0-3abb-4f46-8a8b-9cf37efa99ee",
   "metadata": {},
   "outputs": [],
   "source": [
    "### Question 1"
   ]
  },
  {
   "cell_type": "code",
   "execution_count": null,
   "id": "7aa30a66-0dcd-4f1f-beb0-a6ba473c9070",
   "metadata": {},
   "outputs": [],
   "source": [
    "# Evaluate baseline strategy\n",
    "\n"
   ]
  },
  {
   "cell_type": "code",
   "execution_count": null,
   "id": "4aff63cc-3354-4189-8314-41a44a090609",
   "metadata": {},
   "outputs": [],
   "source": []
  },
  {
   "cell_type": "code",
   "execution_count": null,
   "id": "17cb78c4-5841-46a9-af75-cc347d4f39c0",
   "metadata": {},
   "outputs": [],
   "source": [
    "answers['Q1'] = "
   ]
  },
  {
   "cell_type": "code",
   "execution_count": null,
   "id": "158deaa6-d294-4873-b10f-85f883d833d8",
   "metadata": {},
   "outputs": [],
   "source": [
    "assertFloat(answers['Q1'])"
   ]
  },
  {
   "cell_type": "code",
   "execution_count": null,
   "id": "f843a2a7-57e5-4947-a513-ba8fa35f8cb6",
   "metadata": {},
   "outputs": [],
   "source": [
    "### Question 2"
   ]
  },
  {
   "cell_type": "code",
   "execution_count": null,
   "id": "47c2b474-700f-4d37-be1b-3a704ad2968b",
   "metadata": {},
   "outputs": [],
   "source": [
    "# Improved strategy\n"
   ]
  },
  {
   "cell_type": "code",
   "execution_count": null,
   "id": "6474d5ac-7dd0-4d62-b938-ec025bef55de",
   "metadata": {},
   "outputs": [],
   "source": [
    "# Evaluate baseline strategy\n",
    "\n"
   ]
  },
  {
   "cell_type": "code",
   "execution_count": null,
   "id": "9b3ae801-c8c8-4d1c-ac0f-9a83744355b4",
   "metadata": {},
   "outputs": [],
   "source": []
  },
  {
   "cell_type": "code",
   "execution_count": null,
   "id": "06a69839-1423-4160-80dc-451eccf6b82f",
   "metadata": {},
   "outputs": [],
   "source": [
    "answers['Q2'] = "
   ]
  },
  {
   "cell_type": "code",
   "execution_count": null,
   "id": "44ddabf1-bf18-428d-91b2-82702133cfb1",
   "metadata": {},
   "outputs": [],
   "source": [
    "assertFloatList(answers['Q2'], 2)"
   ]
  },
  {
   "cell_type": "code",
   "execution_count": null,
   "id": "8c5c5e95-1c35-4f00-9fac-5a1d3bec338b",
   "metadata": {},
   "outputs": [],
   "source": [
    "### Question 3/4"
   ]
  },
  {
   "cell_type": "code",
   "execution_count": null,
   "id": "0e7cca75-8730-459c-ad27-d827d65856e2",
   "metadata": {},
   "outputs": [],
   "source": []
  },
  {
   "cell_type": "code",
   "execution_count": null,
   "id": "6180d5a7-fcaa-4208-9e2e-0babf0ab854d",
   "metadata": {},
   "outputs": [],
   "source": [
    "answers['Q3'] = \n",
    "answers['Q4'] = "
   ]
  },
  {
   "cell_type": "code",
   "execution_count": null,
   "id": "6ac29b20-93d8-467e-9343-7363ae7c8071",
   "metadata": {},
   "outputs": [],
   "source": [
    "assertFloat(answers['Q3'])\n",
    "assertFloat(answers['Q4'])"
   ]
  },
  {
   "cell_type": "code",
   "execution_count": null,
   "id": "75f81286-487d-494a-8ee8-a42c1aca6eb7",
   "metadata": {},
   "outputs": [],
   "source": [
    "predictions = open(\"HWpredictions_Played.csv\", 'w')\n",
    "for l in open(\"/home/julian/Downloads/assignment1/pairs_Played.csv\"):\n",
    "    if l.startswith(\"userID\"):\n",
    "        predictions.write(l)\n",
    "        continue\n",
    "    u,g = l.strip().split(',')\n",
    "    \n",
    "    # Logic...\n",
    "    \n",
    "    _ = predictions.write(u + ',' + g + ',' + str(pred) + '\\n')\n",
    "\n",
    "predictions.close()"
   ]
  },
  {
   "cell_type": "code",
   "execution_count": null,
   "id": "dbfd2cbf-b515-4f70-b613-e1248c5d6020",
   "metadata": {},
   "outputs": [],
   "source": [
    "answers['Q5'] = \"I confirm that I have uploaded an assignment submission to gradescope\""
   ]
  },
  {
   "cell_type": "code",
   "execution_count": null,
   "id": "c82a7a00",
   "metadata": {},
   "outputs": [],
   "source": [
    "##################################################\n",
    "# Hours played prediction                        #\n",
    "##################################################"
   ]
  },
  {
   "cell_type": "code",
   "execution_count": null,
   "id": "772dd561-ceae-4c2e-9347-7ba3eb2dd650",
   "metadata": {},
   "outputs": [],
   "source": [
    "trainHours = [r[2]['hours_transformed'] for r in hoursTrain]\n",
    "globalAverage = sum(trainHours) * 1.0 / len(trainHours)"
   ]
  },
  {
   "cell_type": "code",
   "execution_count": null,
   "id": "beddb1d9-e61b-4903-b557-f04810fd7c68",
   "metadata": {},
   "outputs": [],
   "source": []
  },
  {
   "cell_type": "code",
   "execution_count": null,
   "id": "4b95a9e5-b36f-4883-befb-6dedfd833dcb",
   "metadata": {},
   "outputs": [],
   "source": [
    "### Question 6"
   ]
  },
  {
   "cell_type": "code",
   "execution_count": null,
   "id": "d4b39158-3b06-4057-bfb7-5ef1d547e3b3",
   "metadata": {},
   "outputs": [],
   "source": [
    "betaU = {}\n",
    "betaI = {}\n",
    "for u in hoursPerUser:\n",
    "    betaU[u] = 0\n",
    "\n",
    "for g in hoursPerItem:\n",
    "    betaI[g] = 0"
   ]
  },
  {
   "cell_type": "code",
   "execution_count": null,
   "id": "ae174441-3c7e-4b41-8869-7a67b6c61607",
   "metadata": {},
   "outputs": [],
   "source": [
    "alpha = globalAverage # Could initialize anywhere, this is a guess"
   ]
  },
  {
   "cell_type": "code",
   "execution_count": null,
   "id": "ced4bf80-22e7-44eb-9efe-e2ec42f893bb",
   "metadata": {},
   "outputs": [],
   "source": [
    "def iterate(lamb):\n",
    "    # ..."
   ]
  },
  {
   "cell_type": "code",
   "execution_count": null,
   "id": "a4544f0f-39ac-4452-9180-baa378507201",
   "metadata": {},
   "outputs": [],
   "source": []
  },
  {
   "cell_type": "code",
   "execution_count": null,
   "id": "6534a08d-013e-4353-a12c-b1f2bbed5812",
   "metadata": {},
   "outputs": [],
   "source": [
    "answers['Q6'] = validMSE"
   ]
  },
  {
   "cell_type": "code",
   "execution_count": null,
   "id": "bc0e3695-682b-4d65-9576-c59795d04930",
   "metadata": {},
   "outputs": [],
   "source": [
    "assertFloat(answers['Q6'])"
   ]
  },
  {
   "cell_type": "code",
   "execution_count": null,
   "id": "d9d419e4-e8c4-4766-b189-d77fbe608417",
   "metadata": {},
   "outputs": [],
   "source": [
    "### Question 7"
   ]
  },
  {
   "cell_type": "code",
   "execution_count": null,
   "id": "4a48cc70-1c2c-40df-9843-fea1f287a10e",
   "metadata": {},
   "outputs": [],
   "source": [
    "betaUs = [(betaU[u], u) for u in betaU]\n",
    "betaIs = [(betaI[i], i) for i in betaI]\n",
    "betaUs.sort()\n",
    "betaIs.sort()\n",
    "\n",
    "print(\"Maximum betaU = \" + str(betaUs[-1][1]) + ' (' + str(betaUs[-1][0]) + ')')\n",
    "print(\"Maximum betaI = \" + str(betaIs[-1][1]) + ' (' + str(betaIs[-1][0]) + ')')\n",
    "print(\"Minimum betaU = \" + str(betaUs[0][1]) + ' (' + str(betaUs[0][0]) + ')')\n",
    "print(\"Minimum betaI = \" + str(betaIs[0][1]) + ' (' + str(betaIs[0][0]) + ')')"
   ]
  },
  {
   "cell_type": "code",
   "execution_count": null,
   "id": "65b17529-ade3-4cdf-a5c1-b17b06e68237",
   "metadata": {},
   "outputs": [],
   "source": [
    "answers['Q7'] = [betaUs[-1][0], betaUs[0][0], betaIs[-1][0], betaIs[0][0]]"
   ]
  },
  {
   "cell_type": "code",
   "execution_count": null,
   "id": "4eeaf180-3bd8-4acb-aef5-86b044521e56",
   "metadata": {},
   "outputs": [],
   "source": [
    "answers['Q7']"
   ]
  },
  {
   "cell_type": "code",
   "execution_count": null,
   "id": "7c9faa5c-2bc1-4d51-ae29-df2d82c9372d",
   "metadata": {},
   "outputs": [],
   "source": [
    "assertFloatList(answers['Q7'], 4)"
   ]
  },
  {
   "cell_type": "code",
   "execution_count": null,
   "id": "c604fd19-2fb8-44bf-82b5-33797f534707",
   "metadata": {},
   "outputs": [],
   "source": [
    "### Question 8"
   ]
  },
  {
   "cell_type": "code",
   "execution_count": null,
   "id": "30b8cbba-d0ec-46a6-b079-1c9a0e188971",
   "metadata": {},
   "outputs": [],
   "source": [
    "# Better lambda...\n"
   ]
  },
  {
   "cell_type": "code",
   "execution_count": null,
   "id": "fa01029d-a130-4389-9f0c-bf18fb3726f4",
   "metadata": {},
   "outputs": [],
   "source": []
  },
  {
   "cell_type": "code",
   "execution_count": null,
   "id": "b95c8e49-d120-4367-a20f-a39381776979",
   "metadata": {},
   "outputs": [],
   "source": [
    "answers['Q8'] = (5.0, validMSE)"
   ]
  },
  {
   "cell_type": "code",
   "execution_count": null,
   "id": "fe2dcb96-86a0-473e-980b-340435715ea8",
   "metadata": {},
   "outputs": [],
   "source": [
    "assertFloatList(answers['Q8'], 2)"
   ]
  },
  {
   "cell_type": "code",
   "execution_count": null,
   "id": "90a7cd55-1f58-42a5-8c35-4debf80a3e3e",
   "metadata": {},
   "outputs": [],
   "source": [
    "predictions = open(\"HWpredictions_Hours.csv\", 'w')\n",
    "for l in open(\"/home/julian/Downloads/assignment1/pairs_Hours.csv\"):\n",
    "    if l.startswith(\"userID\"):\n",
    "        predictions.write(l)\n",
    "        continue\n",
    "    u,g = l.strip().split(',')\n",
    "    \n",
    "    # Logic...\n",
    "    \n",
    "    _ = predictions.write(u + ',' + g + ',' + str(alpha + bu + bi) + '\\n')\n",
    "\n",
    "predictions.close()"
   ]
  },
  {
   "cell_type": "code",
   "execution_count": null,
   "id": "c5fe92e3-3ab1-4858-858c-eeb732d964f6",
   "metadata": {},
   "outputs": [],
   "source": [
    "f = open(\"answers_hw3.txt\", 'w')\n",
    "f.write(str(answers) + '\\n')\n",
    "f.close()"
   ]
  },
  {
   "cell_type": "code",
   "execution_count": null,
   "id": "9676dc3e",
   "metadata": {},
   "outputs": [],
   "source": []
  }
 ],
 "metadata": {
  "kernelspec": {
   "display_name": "Python 3 (ipykernel)",
   "language": "python",
   "name": "python3"
  },
  "language_info": {
   "codemirror_mode": {
    "name": "ipython",
    "version": 3
   },
   "file_extension": ".py",
   "mimetype": "text/x-python",
   "name": "python",
   "nbconvert_exporter": "python",
   "pygments_lexer": "ipython3",
   "version": "3.10.6"
  }
 },
 "nbformat": 4,
 "nbformat_minor": 5
}
